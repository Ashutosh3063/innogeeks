{
 "cells": [
  {
   "cell_type": "code",
   "execution_count": 1,
   "id": "ee9e38f8",
   "metadata": {},
   "outputs": [],
   "source": [
    "#Array"
   ]
  },
  {
   "cell_type": "code",
   "execution_count": 2,
   "id": "451150e3",
   "metadata": {},
   "outputs": [
    {
     "name": "stdout",
     "output_type": "stream",
     "text": [
      "[1 2 3]\n"
     ]
    },
    {
     "data": {
      "text/plain": [
       "numpy.ndarray"
      ]
     },
     "execution_count": 2,
     "metadata": {},
     "output_type": "execute_result"
    }
   ],
   "source": [
    "import numpy as np\n",
    "arr=np.array([1,2,3])\n",
    "print(arr)\n",
    "type(arr)"
   ]
  },
  {
   "cell_type": "code",
   "execution_count": 5,
   "id": "5925ad71",
   "metadata": {},
   "outputs": [
    {
     "data": {
      "text/plain": [
       "array([[1., 1., 1.],\n",
       "       [1., 1., 1.]])"
      ]
     },
     "execution_count": 5,
     "metadata": {},
     "output_type": "execute_result"
    }
   ],
   "source": [
    "zeros_arr=np.zeros((2,3))\n",
    "ones_arr=np.ones((2,3))\n",
    "#zeros_arr\n",
    "ones_arr"
   ]
  },
  {
   "cell_type": "code",
   "execution_count": 6,
   "id": "6c1b918a",
   "metadata": {},
   "outputs": [
    {
     "data": {
      "text/plain": [
       "array([[0., 0., 0.],\n",
       "       [0., 0., 0.]])"
      ]
     },
     "execution_count": 6,
     "metadata": {},
     "output_type": "execute_result"
    }
   ],
   "source": [
    "zeros_arr=np.zeros((2,3))\n",
    "ones_arr=np.ones((2,3))\n",
    "zeros_arr\n",
    "#ones_arr"
   ]
  },
  {
   "cell_type": "code",
   "execution_count": 7,
   "id": "e4a8fcf7",
   "metadata": {},
   "outputs": [
    {
     "data": {
      "text/plain": [
       "array([0, 2, 4, 6, 8])"
      ]
     },
     "execution_count": 7,
     "metadata": {},
     "output_type": "execute_result"
    }
   ],
   "source": [
    "arange_arr=np.arange(0, 10, 2)\n",
    "arange_arr"
   ]
  },
  {
   "cell_type": "code",
   "execution_count": 14,
   "id": "b99a660d",
   "metadata": {},
   "outputs": [
    {
     "data": {
      "text/plain": [
       "array([0.  , 0.25, 0.5 , 0.75, 1.  ])"
      ]
     },
     "execution_count": 14,
     "metadata": {},
     "output_type": "execute_result"
    }
   ],
   "source": [
    "\n",
    "\n",
    "linspace_arr=np.linspace(0, 1, 5)# 5 here means dividing in 5 equal parts\n",
    "linspace_arr"
   ]
  },
  {
   "cell_type": "code",
   "execution_count": 27,
   "id": "515be7af",
   "metadata": {},
   "outputs": [
    {
     "data": {
      "text/plain": [
       "array([[0.40712914, 0.42776368, 0.13981166],\n",
       "       [0.95362456, 0.00582606, 0.01870675]])"
      ]
     },
     "execution_count": 27,
     "metadata": {},
     "output_type": "execute_result"
    }
   ],
   "source": [
    "random_arr=np.random.rand(2,3)#0to 1 range output\n",
    "random_arr"
   ]
  },
  {
   "cell_type": "code",
   "execution_count": 38,
   "id": "47c6e41e",
   "metadata": {},
   "outputs": [
    {
     "data": {
      "text/plain": [
       "array([[4, 4, 4],\n",
       "       [4, 4, 4]])"
      ]
     },
     "execution_count": 38,
     "metadata": {},
     "output_type": "execute_result"
    }
   ],
   "source": [
    "\n",
    "random_arr=np.random.randint(low=4,high=5,size=(2,3))\n",
    "random_arr"
   ]
  },
  {
   "cell_type": "code",
   "execution_count": 37,
   "id": "063dcc0e",
   "metadata": {},
   "outputs": [],
   "source": [
    "#Array indexing and slicing"
   ]
  },
  {
   "cell_type": "code",
   "execution_count": 40,
   "id": "38e66ca1",
   "metadata": {},
   "outputs": [
    {
     "name": "stdout",
     "output_type": "stream",
     "text": [
      "3\n"
     ]
    },
    {
     "data": {
      "text/plain": [
       "2"
      ]
     },
     "execution_count": 40,
     "metadata": {},
     "output_type": "execute_result"
    }
   ],
   "source": [
    "arr=np.array([1,2,3,4,5])\n",
    "print(arr[2])\n",
    "arr[1]"
   ]
  },
  {
   "cell_type": "code",
   "execution_count": 46,
   "id": "59f6969d",
   "metadata": {},
   "outputs": [
    {
     "name": "stdout",
     "output_type": "stream",
     "text": [
      "[[6.78732616 7.90165009 6.72988324]\n",
      " [5.64955071 3.23900293 1.90309595]\n",
      " [9.57665831 8.02691585 2.69434779]]\n"
     ]
    }
   ],
   "source": [
    "arr1=np.random.rand(3,3)*9+1\n",
    "print(arr1)"
   ]
  },
  {
   "cell_type": "code",
   "execution_count": 51,
   "id": "17f7a3f5",
   "metadata": {},
   "outputs": [
    {
     "name": "stdout",
     "output_type": "stream",
     "text": [
      "3\n"
     ]
    },
    {
     "data": {
      "text/plain": [
       "array([ 1,  2, 10,  4,  5,  6])"
      ]
     },
     "execution_count": 51,
     "metadata": {},
     "output_type": "execute_result"
    }
   ],
   "source": [
    "arrr=np.array([1,2,3,4,5,6])\n",
    "print(arrr[2])\n",
    "arrr[2]=10\n",
    "arrr"
   ]
  },
  {
   "cell_type": "code",
   "execution_count": 61,
   "id": "ac6c13ab",
   "metadata": {},
   "outputs": [
    {
     "name": "stdout",
     "output_type": "stream",
     "text": [
      "[[0 1 2]\n",
      " [3 4 5]\n",
      " [6 7 8]]\n"
     ]
    }
   ],
   "source": [
    "import numpy as np\n",
    "arr=np.array([0,1,2,3,4,5,6,7,8])\n",
    "newarr= arr.reshape(3,3)\n",
    "print(newarr)"
   ]
  },
  {
   "cell_type": "code",
   "execution_count": null,
   "id": "bea8d44a",
   "metadata": {},
   "outputs": [],
   "source": []
  },
  {
   "cell_type": "code",
   "execution_count": null,
   "id": "7ce41692",
   "metadata": {},
   "outputs": [],
   "source": []
  }
 ],
 "metadata": {
  "kernelspec": {
   "display_name": "Python 3 (ipykernel)",
   "language": "python",
   "name": "python3"
  },
  "language_info": {
   "codemirror_mode": {
    "name": "ipython",
    "version": 3
   },
   "file_extension": ".py",
   "mimetype": "text/x-python",
   "name": "python",
   "nbconvert_exporter": "python",
   "pygments_lexer": "ipython3",
   "version": "3.11.5"
  }
 },
 "nbformat": 4,
 "nbformat_minor": 5
}
