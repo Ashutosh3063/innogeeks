{
 "cells": [
  {
   "cell_type": "code",
   "execution_count": 11,
   "id": "81a50932",
   "metadata": {},
   "outputs": [
    {
     "name": "stdout",
     "output_type": "stream",
     "text": [
      "Hello Ashutosh!\n"
     ]
    }
   ],
   "source": [
    "def greet(name):\n",
    "    print(\"Hello \" + name + \"!\")\n",
    "name=\"Ashutosh\"\n",
    "greet(name)\n",
    "    "
   ]
  },
  {
   "cell_type": "code",
   "execution_count": 18,
   "id": "e8225be6",
   "metadata": {},
   "outputs": [
    {
     "data": {
      "text/plain": [
       "7"
      ]
     },
     "execution_count": 18,
     "metadata": {},
     "output_type": "execute_result"
    }
   ],
   "source": [
    "def add(a,b):\n",
    "    return a+b\n",
    "add(3,4)\n"
   ]
  },
  {
   "cell_type": "code",
   "execution_count": 24,
   "id": "51d7e34f",
   "metadata": {},
   "outputs": [
    {
     "data": {
      "text/plain": [
       "125"
      ]
     },
     "execution_count": 24,
     "metadata": {},
     "output_type": "execute_result"
    }
   ],
   "source": [
    "def exponent(a,b=2):\n",
    "    c = a**b\n",
    "    return c\n",
    "exponent(5,3)"
   ]
  },
  {
   "cell_type": "code",
   "execution_count": 38,
   "id": "506b831b",
   "metadata": {},
   "outputs": [
    {
     "data": {
      "text/plain": [
       "('ashutosh', 19)"
      ]
     },
     "execution_count": 38,
     "metadata": {},
     "output_type": "execute_result"
    }
   ],
   "source": [
    "def person(name,age):\n",
    "    return name,age\n",
    "person(\"ashutosh\",19)"
   ]
  },
  {
   "cell_type": "code",
   "execution_count": 51,
   "id": "adb2be4f",
   "metadata": {},
   "outputs": [
    {
     "data": {
      "text/plain": [
       "10"
      ]
     },
     "execution_count": 51,
     "metadata": {},
     "output_type": "execute_result"
    }
   ],
   "source": [
    "c=15\n",
    "def update():\n",
    "    global c\n",
    "    c=10\n",
    "update()\n",
    "c\n",
    "    \n",
    "    \n",
    "        "
   ]
  },
  {
   "cell_type": "code",
   "execution_count": 47,
   "id": "3e1562f3",
   "metadata": {},
   "outputs": [
    {
     "name": "stdout",
     "output_type": "stream",
     "text": [
      "<class 'int'>\n"
     ]
    }
   ],
   "source": [
    "a=5\n",
    "print(type(a))"
   ]
  },
  {
   "cell_type": "code",
   "execution_count": 62,
   "id": "af21f25f",
   "metadata": {},
   "outputs": [
    {
     "name": "stdout",
     "output_type": "stream",
     "text": [
      "5\n"
     ]
    }
   ],
   "source": [
    "def factorial(n):\n",
    "    if n==0 or n==1:\n",
    "        return 1\n",
    "    else:\n",
    "        return n*factorial(n-1)\n",
    "a=5\n",
    "factorial(a)\n",
    "\n",
    "\n",
    "#parameter\n",
    "#arguments\n",
    "    \n",
    "    \n",
    "    "
   ]
  },
  {
   "cell_type": "code",
   "execution_count": 1,
   "id": "84181af5",
   "metadata": {},
   "outputs": [
    {
     "name": "stdout",
     "output_type": "stream",
     "text": [
      "27.0\n"
     ]
    }
   ],
   "source": [
    "square = lambda x,y,z : x**y/z\n",
    "print(square(3,4,3))\n",
    " \n",
    "    "
   ]
  },
  {
   "cell_type": "code",
   "execution_count": 1,
   "id": "f910cec2",
   "metadata": {},
   "outputs": [
    {
     "data": {
      "text/plain": [
       "8"
      ]
     },
     "execution_count": 1,
     "metadata": {},
     "output_type": "execute_result"
    }
   ],
   "source": [
    "def length(name):\n",
    "    return len(name)\n",
    "name= \"ashutosh\"\n",
    "length(name)\n",
    "    \n"
   ]
  },
  {
   "cell_type": "code",
   "execution_count": 10,
   "id": "630d5d89",
   "metadata": {},
   "outputs": [
    {
     "name": "stdout",
     "output_type": "stream",
     "text": [
      "Hello\n",
      "Time: 0.0\n"
     ]
    }
   ],
   "source": [
    "import time\n",
    "def timetaken(func):\n",
    "    def wrapper():\n",
    "        st=time.time()\n",
    "        func()imp\n",
    "        end=time.time()\n",
    "        print(\"Time:\",end-st)\n",
    "    return wrapper\n",
    "@timetaken  #decorater\n",
    "def func():\n",
    "    print(\"Hello\")\n",
    "func() # this goes to timetaken func then get executed via wrapper where time taken is calculated\n",
    "    "
   ]
  },
  {
   "cell_type": "code",
   "execution_count": 3,
   "id": "885ac332",
   "metadata": {},
   "outputs": [
    {
     "name": "stdout",
     "output_type": "stream",
     "text": [
      "Hello\n",
      "Time: 0.0\n"
     ]
    }
   ],
   "source": [
    "import time\n",
    "def timetaken(func):\n",
    "    def wrappper():\n",
    "        st=time.time()\n",
    "        func()\n",
    "        end=time.time()\n",
    "        print(\"Time:\",end-st)\n",
    "    return wrappper\n",
    "@timetaken \n",
    "def func():\n",
    "    print(\"Hello\")\n",
    "func()\n"
   ]
  },
  {
   "cell_type": "code",
   "execution_count": 17,
   "id": "2bbca8b6",
   "metadata": {},
   "outputs": [],
   "source": [
    "def evaluatenumber(n):\n",
    "    n = int(input(\"Enter an integer (1 <= n <= 100): \"))\n",
    "    if n%2!= 0:\n",
    "        print(\"not weired\")\n",
    "    elif n % 2 == 0 and 2<=n<=5:\n",
    "        print(\"not weired\")\n",
    "    elif  n % 2==0 and 6<=n<=20:\n",
    "        print(\"weired\")\n",
    "    elif  n % 2==0 and n>20:\n",
    "        print(\"not wiered\")\n",
    "    "
   ]
  },
  {
   "cell_type": "code",
   "execution_count": null,
   "id": "35748f23",
   "metadata": {},
   "outputs": [],
   "source": []
  },
  {
   "cell_type": "code",
   "execution_count": null,
   "id": "452885fa",
   "metadata": {},
   "outputs": [],
   "source": []
  }
 ],
 "metadata": {
  "kernelspec": {
   "display_name": "Python 3 (ipykernel)",
   "language": "python",
   "name": "python3"
  },
  "language_info": {
   "codemirror_mode": {
    "name": "ipython",
    "version": 3
   },
   "file_extension": ".py",
   "mimetype": "text/x-python",
   "name": "python",
   "nbconvert_exporter": "python",
   "pygments_lexer": "ipython3",
   "version": "3.11.5"
  }
 },
 "nbformat": 4,
 "nbformat_minor": 5
}
