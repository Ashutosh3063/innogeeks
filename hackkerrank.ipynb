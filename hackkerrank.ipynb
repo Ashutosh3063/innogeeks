{
 "cells": [
  {
   "cell_type": "code",
   "execution_count": 3,
   "id": "6aab3ca4",
   "metadata": {},
   "outputs": [
    {
     "name": "stdout",
     "output_type": "stream",
     "text": [
      "10\n",
      "1234567900\n"
     ]
    }
   ],
   "source": [
    "if __name__ == '__main__':\n",
    "    n = int(input())\n",
    "\n",
    "    def print_sequence(n):\n",
    "        if 1 <= n <= 150:\n",
    "            result=0\n",
    "            for i in range(1, n + 1):\n",
    "                result = result * 10 + i\n",
    "            print(result)\n",
    "    \n",
    "    print_sequence(n)"
   ]
  },
  {
   "cell_type": "code",
   "execution_count": 5,
   "id": "459ee2a0",
   "metadata": {},
   "outputs": [
    {
     "name": "stdout",
     "output_type": "stream",
     "text": [
      "10\n",
      "1234567900\n"
     ]
    }
   ],
   "source": [
    "if __name__ == '__main__':\n",
    "    n = int(input())\n",
    "\n",
    "    def print_sequence(n):\n",
    "        if 1 <= n <= 150:\n",
    "            num_digits = len(str(n))\n",
    "            result = 0\n",
    "            for i in range(1, n + 1):\n",
    "                result = result * 10 + i\n",
    "            print(result)\n",
    "\n",
    "    print_sequence(n)\n"
   ]
  },
  {
   "cell_type": "code",
   "execution_count": 2,
   "id": "c0081504",
   "metadata": {},
   "outputs": [
    {
     "name": "stdout",
     "output_type": "stream",
     "text": [
      "[[9 8 7]\n",
      " [6 5 4]\n",
      " [3 2 1]]\n"
     ]
    }
   ],
   "source": [
    "import numpy\n",
    "\n",
    "change_array = numpy.array([9,8,7,6,5,4,3,2,1])\n",
    "change_array.shape = (3,3)\n",
    "print (change_array)\n"
   ]
  },
  {
   "cell_type": "code",
   "execution_count": 1,
   "id": "55a9824c",
   "metadata": {},
   "outputs": [
    {
     "name": "stdout",
     "output_type": "stream",
     "text": [
      "10\n",
      "12345678910\n"
     ]
    }
   ],
   "source": [
    "if __name__ == '__main__':\n",
    "    n = int(input())\n",
    "\n",
    "    def sequence(n):\n",
    "        if 1 <= n <= 150:\n",
    "            result = []\n",
    "            for i in range(1, n + 1):\n",
    "                result.extend([int(digit) for digit in str(i)])\n",
    "            print(*result, sep='')\n",
    "\n",
    "    sequence(n)"
   ]
  },
  {
   "cell_type": "code",
   "execution_count": null,
   "id": "7add27fb",
   "metadata": {},
   "outputs": [],
   "source": []
  }
 ],
 "metadata": {
  "kernelspec": {
   "display_name": "Python 3 (ipykernel)",
   "language": "python",
   "name": "python3"
  },
  "language_info": {
   "codemirror_mode": {
    "name": "ipython",
    "version": 3
   },
   "file_extension": ".py",
   "mimetype": "text/x-python",
   "name": "python",
   "nbconvert_exporter": "python",
   "pygments_lexer": "ipython3",
   "version": "3.11.5"
  }
 },
 "nbformat": 4,
 "nbformat_minor": 5
}
