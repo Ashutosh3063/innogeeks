{
 "cells": [
  {
   "cell_type": "code",
   "execution_count": null,
   "id": "7d1c00c1",
   "metadata": {},
   "outputs": [],
   "source": [
    "multistr = \"\"\"\n",
    "this is  multiline string \n",
    "hello \n",
    "innogeeks\n",
    "\"\"\""
   ]
  },
  {
   "cell_type": "code",
   "execution_count": null,
   "id": "2f5143bc",
   "metadata": {},
   "outputs": [],
   "source": [
    "print(multistr)\n"
   ]
  },
  {
   "cell_type": "code",
   "execution_count": null,
   "id": "1f311463",
   "metadata": {},
   "outputs": [],
   "source": [
    "multistr"
   ]
  },
  {
   "cell_type": "code",
   "execution_count": null,
   "id": "99d0cea9",
   "metadata": {},
   "outputs": [],
   "source": [
    "x = \"\"\" \n",
    "a\n",
    "b\n",
    "c\n",
    "\"\"\""
   ]
  },
  {
   "cell_type": "code",
   "execution_count": null,
   "id": "5af22459",
   "metadata": {},
   "outputs": [],
   "source": [
    "x"
   ]
  },
  {
   "cell_type": "code",
   "execution_count": null,
   "id": "cbfdbf95",
   "metadata": {},
   "outputs": [],
   "source": [
    "print(x)"
   ]
  },
  {
   "cell_type": "code",
   "execution_count": null,
   "id": "06963ec8",
   "metadata": {},
   "outputs": [],
   "source": [
    "string = \"Innogaeks\" # 012345678=-1# arrays"
   ]
  },
  {
   "cell_type": "code",
   "execution_count": null,
   "id": "314af8ca",
   "metadata": {},
   "outputs": [],
   "source": [
    "print(string[0])"
   ]
  },
  {
   "cell_type": "code",
   "execution_count": null,
   "id": "073c217f",
   "metadata": {},
   "outputs": [],
   "source": [
    "#slicing \n",
    "substring = string[0:2]"
   ]
  },
  {
   "cell_type": "code",
   "execution_count": 2,
   "id": "a1ab8162",
   "metadata": {},
   "outputs": [
    {
     "ename": "NameError",
     "evalue": "name 'substring' is not defined",
     "output_type": "error",
     "traceback": [
      "\u001b[1;31m---------------------------------------------------------------------------\u001b[0m",
      "\u001b[1;31mNameError\u001b[0m                                 Traceback (most recent call last)",
      "Cell \u001b[1;32mIn[2], line 1\u001b[0m\n\u001b[1;32m----> 1\u001b[0m substring\n",
      "\u001b[1;31mNameError\u001b[0m: name 'substring' is not defined"
     ]
    }
   ],
   "source": [
    "substring"
   ]
  },
  {
   "cell_type": "code",
   "execution_count": null,
   "id": "0f1f72d8",
   "metadata": {},
   "outputs": [],
   "source": [
    "substring = string[0:-2]"
   ]
  },
  {
   "cell_type": "code",
   "execution_count": null,
   "id": "a9a087c8",
   "metadata": {},
   "outputs": [],
   "source": [
    "substring"
   ]
  },
  {
   "cell_type": "code",
   "execution_count": null,
   "id": "1e64f39a",
   "metadata": {},
   "outputs": [],
   "source": [
    "sub = string[0:5:2] #[start (defv=0):stop:step(deafault value 1)] \n",
    "sub"
   ]
  },
  {
   "cell_type": "code",
   "execution_count": null,
   "id": "0d159c81",
   "metadata": {},
   "outputs": [],
   "source": [
    "substring = string[-2:-6:-3] # innogeeks 0 1 2 3 4= -6 5 6 7=-3 8=-2 9=-1\n",
    "substring"
   ]
  },
  {
   "cell_type": "markdown",
   "id": "af362f06",
   "metadata": {},
   "source": [
    "X=ARUN Y=SHETTY\n",
    "Z A  SHETTY ??"
   ]
  },
  {
   "cell_type": "code",
   "execution_count": null,
   "id": "5ce6db55",
   "metadata": {},
   "outputs": [],
   "source": [
    "string = \"ARUNSHETTY\""
   ]
  },
  {
   "cell_type": "code",
   "execution_count": null,
   "id": "b9ed71d9",
   "metadata": {},
   "outputs": [],
   "source": [
    "print(string[0 ] + string[4:10])"
   ]
  },
  {
   "cell_type": "code",
   "execution_count": null,
   "id": "cbf42081",
   "metadata": {},
   "outputs": [],
   "source": [
    "substring = substring[0:1]"
   ]
  },
  {
   "cell_type": "code",
   "execution_count": null,
   "id": "bf3480fd",
   "metadata": {},
   "outputs": [],
   "source": [
    "substring"
   ]
  },
  {
   "cell_type": "code",
   "execution_count": null,
   "id": "6328496a",
   "metadata": {},
   "outputs": [],
   "source": [
    "x = arun"
   ]
  },
  {
   "cell_type": "code",
   "execution_count": null,
   "id": "3a1d3db9",
   "metadata": {},
   "outputs": [],
   "source": [
    "type (x)"
   ]
  },
  {
   "cell_type": "code",
   "execution_count": null,
   "id": "c20d36b4",
   "metadata": {},
   "outputs": [],
   "source": [
    "name = Arun Shetty"
   ]
  },
  {
   "cell_type": "code",
   "execution_count": null,
   "id": "96c3aa8a",
   "metadata": {},
   "outputs": [],
   "source": [
    "X = \"ARUN\"\n",
    "Y = \"SHETTY\"\n",
    "\n",
    "\n",
    "Z = X[0] +\" \" + Y\n",
    "\n",
    "\n",
    "print(\"Z =\", Z)\n"
   ]
  },
  {
   "cell_type": "code",
   "execution_count": null,
   "id": "d2b290ad",
   "metadata": {},
   "outputs": [],
   "source": [
    "for x in \"banana\":\n",
    "print(x)"
   ]
  },
  {
   "cell_type": "code",
   "execution_count": 11,
   "id": "a1cc3efa",
   "metadata": {},
   "outputs": [
    {
     "name": "stdout",
     "output_type": "stream",
     "text": [
      "e\n"
     ]
    }
   ],
   "source": [
    "b = \"HelloWorld!\"\n",
    "print(b[1:2:2])"
   ]
  },
  {
   "cell_type": "code",
   "execution_count": 12,
   "id": "9a179ce9",
   "metadata": {},
   "outputs": [
    {
     "name": "stdout",
     "output_type": "stream",
     "text": [
      "Jello, World!\n"
     ]
    }
   ],
   "source": [
    "a = \"Hello, World!\"\n",
    "print(a.replace(\"H\", \"J\"))"
   ]
  },
  {
   "cell_type": "code",
   "execution_count": 13,
   "id": "ec9dedca",
   "metadata": {},
   "outputs": [
    {
     "name": "stdout",
     "output_type": "stream",
     "text": [
      "['Hello', ' World!']\n"
     ]
    }
   ],
   "source": [
    "a = \"Hello, World!\"\n",
    "print(a.split(\",\")) # returns ['Hello', ' World!']"
   ]
  },
  {
   "cell_type": "code",
   "execution_count": 14,
   "id": "4f0c9541",
   "metadata": {},
   "outputs": [
    {
     "name": "stdout",
     "output_type": "stream",
     "text": [
      "My name is John, and I am 36\n"
     ]
    }
   ],
   "source": [
    "age = 36\n",
    "txt = \"My name is John, and I am {}\"\n",
    "print(txt.format(age))\n"
   ]
  },
  {
   "cell_type": "code",
   "execution_count": 15,
   "id": "84e6b389",
   "metadata": {},
   "outputs": [
    {
     "name": "stdout",
     "output_type": "stream",
     "text": [
      "I want 3 pieces of item 567 for 49.95 dollars.\n"
     ]
    }
   ],
   "source": [
    "quantity = 3\n",
    "itemno = 567\n",
    "price = 49.95\n",
    "myorder = \"I want {} pieces of item {} for {} dollars.\"\n",
    "print(myorder.format(quantity, itemno, price))"
   ]
  },
  {
   "cell_type": "code",
   "execution_count": null,
   "id": "9b45a7fa",
   "metadata": {},
   "outputs": [],
   "source": []
  }
 ],
 "metadata": {
  "kernelspec": {
   "display_name": "Python 3 (ipykernel)",
   "language": "python",
   "name": "python3"
  },
  "language_info": {
   "codemirror_mode": {
    "name": "ipython",
    "version": 3
   },
   "file_extension": ".py",
   "mimetype": "text/x-python",
   "name": "python",
   "nbconvert_exporter": "python",
   "pygments_lexer": "ipython3",
   "version": "3.11.5"
  }
 },
 "nbformat": 4,
 "nbformat_minor": 5
}
