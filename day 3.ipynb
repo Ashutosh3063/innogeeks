{
 "cells": [
  {
   "cell_type": "markdown",
   "id": "07e32b9e",
   "metadata": {},
   "source": [
    "taking input from user"
   ]
  },
  {
   "cell_type": "code",
   "execution_count": null,
   "id": "4927f910",
   "metadata": {},
   "outputs": [],
   "source": [
    "a = input(\"enter your name:\")\n",
    "print(\"My name is \" + a )"
   ]
  },
  {
   "cell_type": "code",
   "execution_count": null,
   "id": "5a9119cf",
   "metadata": {},
   "outputs": [],
   "source": [
    "b = int(input(\"Enter your age\"))\n",
    "print( a + \" is \" + str(b) + \" years old\" )"
   ]
  },
  {
   "cell_type": "code",
   "execution_count": null,
   "id": "f4f55bbc",
   "metadata": {},
   "outputs": [],
   "source": [
    "print( f\"{a} is {b} years old.\")"
   ]
  },
  {
   "cell_type": "markdown",
   "id": "506fed2e",
   "metadata": {},
   "source": [
    "how to do the same thing using dot format\n"
   ]
  },
  {
   "cell_type": "code",
   "execution_count": null,
   "id": "c1a9b85c",
   "metadata": {},
   "outputs": [],
   "source": [
    "first,last= a.split()\n",
    "print(f\"{first[0]+'.'+last} is {b} years old\")"
   ]
  },
  {
   "cell_type": "code",
   "execution_count": null,
   "id": "139ea2c6",
   "metadata": {},
   "outputs": [],
   "source": [
    "name = input(\"Enter your name:\")"
   ]
  },
  {
   "cell_type": "code",
   "execution_count": null,
   "id": "aa0a3597",
   "metadata": {},
   "outputs": [],
   "source": [
    "print(name.title()) # title first letter upper case then lower case\n",
    "print(name.strip())#strips the gaps\n",
    "print(name.lower())\n",
    "print(name.upper())\n",
    "\n"
   ]
  },
  {
   "cell_type": "code",
   "execution_count": null,
   "id": "d872418e",
   "metadata": {},
   "outputs": [],
   "source": [
    "print(len(name))\n",
    "print(type(name))"
   ]
  },
  {
   "cell_type": "markdown",
   "id": "02611e64",
   "metadata": {},
   "source": [
    "Conditions and Loops"
   ]
  },
  {
   "cell_type": "code",
   "execution_count": null,
   "id": "d8b7f336",
   "metadata": {},
   "outputs": [],
   "source": [
    "a = int(input(\"enter number a:\"))\n",
    "b = int(input(\"enter number b:\"))\n",
    "if a>b:\n",
    "    print(\"a is larger\")\n",
    "else:\n",
    "       print(\"b is larger\")"
   ]
  },
  {
   "cell_type": "code",
   "execution_count": null,
   "id": "d4780e41",
   "metadata": {},
   "outputs": [],
   "source": []
  },
  {
   "cell_type": "markdown",
   "id": "65797056",
   "metadata": {},
   "source": [
    "sieve of Eratosthenes"
   ]
  },
  {
   "cell_type": "code",
   "execution_count": null,
   "id": "d9b26356",
   "metadata": {},
   "outputs": [],
   "source": [
    "#prime number\n",
    "a = int(input(\"Enter a prime number\"))\n",
    "c=0\n",
    "for i in range(2,(a//2)+1):\n",
    "    if a%i==0:\n",
    "        c+=1\n",
    "        break\n",
    "if c>=1:\n",
    "            print(\"not prime\")\n",
    "else:\n",
    "    print(\"prime\")\n",
    "                \n",
    "\n"
   ]
  },
  {
   "cell_type": "code",
   "execution_count": null,
   "id": "3455a33c",
   "metadata": {},
   "outputs": [],
   "source": [
    "#for even numbers\n",
    "a = int(input(\"enter a even number\"))\n",
    "if a%2==0:\n",
    "    print(\"prime\")\n",
    "else:\n",
    "    print(\"not a prime\")\n",
    "    \n",
    "    \n"
   ]
  },
  {
   "cell_type": "code",
   "execution_count": null,
   "id": "e26c1c8b",
   "metadata": {},
   "outputs": [],
   "source": [
    "#compare the number a,b,c find the maximum\n",
    "a=input(\"enter  first number: \")\n",
    "b=input(\"enter  second number: \")\n",
    "c=input(\"enter  third number : \")\n",
    "if a>b and a>c:\n",
    "    print(\"a is greatest\")\n",
    "if b>c and b>a:\n",
    "    print(\"b is greatest\")\n",
    "if c>a and c>b:\n",
    "    print(\"c is greatest\")"
   ]
  },
  {
   "cell_type": "code",
   "execution_count": null,
   "id": "bb0fc77e",
   "metadata": {},
   "outputs": [],
   "source": [
    "a = int(input(\"Enter your marks:\"))\n",
    "\n",
    "if 100>=a>90 :\n",
    "    print(\" Grade A\")\n",
    "if 90>=a>80:\n",
    "    print(\" Grade B\")\n",
    "if 80>=a>70:\n",
    "    print(\" Grade C\")\n",
    "if 70>=a>60 :\n",
    "    print(\" Grade D\")\n",
    "if 60>=a>50:\n",
    "    print(\" Grade E\")\n",
    "    if a<"
   ]
  },
  {
   "cell_type": "code",
   "execution_count": null,
   "id": "10ab0d78",
   "metadata": {},
   "outputs": [],
   "source": []
  },
  {
   "cell_type": "code",
   "execution_count": null,
   "id": "4d2196b1",
   "metadata": {},
   "outputs": [],
   "source": [
    "def get_valid_input():\n",
    "    while True:\n",
    "        try:\n",
    "            marks = int(input(\"Enter your mark: \"))\n",
    "            if 0 <= marks <= 100:\n",
    "                return marks\n",
    "            else:\n",
    "                print(\"Please enter a valid mark between 0 and 100.\")\n",
    "        except ValueError:\n",
    "            print(\"Please enter a valid numerical value.\")\n",
    "\n",
    "# Get valid input from the user\n",
    "marks = get_valid_input()\n",
    "\n",
    "# Check the range of marks and assign grades accordingly\n",
    "if 100 >= marks > 90:\n",
    "    print(\"Grade A\")\n",
    "elif 90 >= marks > 80:\n",
    "    print(\"Grade B\")\n",
    "elif 80 >= marks > 70:\n",
    "    print(\"Grade C\")\n",
    "elif 70 >= marks > 60:\n",
    "    print(\"Grade D\")\n",
    "elif 60 >= marks > 50:\n",
    "    print(\"Grade E\")\n",
    "else:\n",
    "    print(\"Fail\")\n"
   ]
  },
  {
   "cell_type": "code",
   "execution_count": null,
   "id": "94c81da3",
   "metadata": {},
   "outputs": [],
   "source": [
    "#print all the prime numbers from(1 to n) taking input from the user\n",
    "a = int(input(\"enter a number n:\"))\n",
    "c=0\n",
    "for i in range(2,(a//2)+1):\n",
    "    if a%i==0:\n",
    "        c+=1\n",
    "        break\n",
    "if c>=1:\n",
    "        print(\" not prime\")\n",
    "else:\n",
    "            print(\"prime\")\n",
    "\n",
    "                \n"
   ]
  },
  {
   "cell_type": "code",
   "execution_count": null,
   "id": "e0216686",
   "metadata": {},
   "outputs": [],
   "source": [
    "def is_prime(num):\n",
    "\n",
    "    for i in range(2, int(num//2) + 1):\n",
    "        if num % i == 0:\n",
    "            return False\n",
    "    return True\n",
    "try:\n",
    "\n",
    "\n",
    "    n = int(input(\"Enter a value of n: \"))\n",
    "    if n < 1:\n",
    "        print(\"Please enter a positive integer greater than 0.\")\n",
    "    else:\n",
    "        print(f\"Prime numbers from 1 to {n}:\")\n",
    "        for number in range(1, n + 1):\n",
    "            if is_prime(number):\n",
    "                print(number)\n",
    "except value_error:\n",
    "    print(\"please enter a valid number\")\n"
   ]
  },
  {
   "cell_type": "code",
   "execution_count": null,
   "id": "9769f75e",
   "metadata": {},
   "outputs": [],
   "source": [
    "def is_prime(num):\n",
    "\n",
    "    for i in range(2, int(num**0.5) + 1):\n",
    "        if num % i == 0:\n",
    "            return False\n",
    "    return True\n",
    "try:\n",
    "\n",
    "\n",
    "    n = int(input(\"Enter a value of n: \"))\n",
    "    if n < 1:\n",
    "        print(\"Please enter a positive integer greater than 0.\")\n",
    "    else:\n",
    "        print(f\"Prime numbers from 1 to {n}:\")\n",
    "        for number in range(1, n + 1):\n",
    "            if is_prime(number):\n",
    "                print(number)\n",
    "except value_error:\n",
    "    print(\"please enter a valid number.\")\n"
   ]
  },
  {
   "cell_type": "code",
   "execution_count": null,
   "id": "09ef596f",
   "metadata": {},
   "outputs": [],
   "source": [
    "def is_prime(num):\n",
    "    if num < 2:\n",
    "        return False\n",
    "    for i in range(2, int(num**0.5) + 1):\n",
    "        if num % i == 0:\n",
    "            return False\n",
    "    return True\n",
    "\n",
    "try:\n",
    "    n = int(input(\"Enter a value of n: \"))\n",
    "    if n < 1:\n",
    "        print(\"Please enter a positive integer greater than 0.\")\n",
    "    else:\n",
    "        print(f\"Prime numbers from 1 to {n}:\")\n",
    "        for number in range(1, n + 1):\n",
    "            if is_prime(number):\n",
    "                print(number)\n",
    "except ValueError:\n",
    "    print(\"Please enter a valid numerical value.\")\n",
    "    \n"
   ]
  },
  {
   "cell_type": "code",
   "execution_count": null,
   "id": "3ba13908",
   "metadata": {},
   "outputs": [],
   "source": [
    "password= \"learn coding\"\n",
    "input_password=input(\"enter password:\")\n",
    "while password != input_password:\n",
    "    input_password = input(\"enter password:\")\n",
    "else:\n",
    "    print(\"unlocked!!\")"
   ]
  },
  {
   "cell_type": "code",
   "execution_count": null,
   "id": "18416aca",
   "metadata": {},
   "outputs": [],
   "source": [
    "#break/continue/pass"
   ]
  },
  {
   "cell_type": "code",
   "execution_count": null,
   "id": "06176abf",
   "metadata": {},
   "outputs": [],
   "source": [
    "if \"A\" in \"Ashutosh\"\n",
    "   pass\n",
    "for num in range(1,11):\n",
    "    if num%2==0:\n",
    "        continue\n",
    "    else:\n",
    "        print(num)\n",
    "for num in range(1,11):\n",
    "    if num%2==0:\n",
    "        break\n",
    "    else:\n",
    "        print(num)"
   ]
  },
  {
   "cell_type": "code",
   "execution_count": null,
   "id": "05a3a15c",
   "metadata": {},
   "outputs": [],
   "source": []
  },
  {
   "cell_type": "code",
   "execution_count": null,
   "id": "399e07f6",
   "metadata": {},
   "outputs": [],
   "source": []
  },
  {
   "cell_type": "code",
   "execution_count": null,
   "id": "5afde99c",
   "metadata": {},
   "outputs": [],
   "source": []
  },
  {
   "cell_type": "code",
   "execution_count": null,
   "id": "965469eb",
   "metadata": {},
   "outputs": [],
   "source": []
  }
 ],
 "metadata": {
  "kernelspec": {
   "display_name": "Python 3 (ipykernel)",
   "language": "python",
   "name": "python3"
  },
  "language_info": {
   "codemirror_mode": {
    "name": "ipython",
    "version": 3
   },
   "file_extension": ".py",
   "mimetype": "text/x-python",
   "name": "python",
   "nbconvert_exporter": "python",
   "pygments_lexer": "ipython3",
   "version": "3.11.5"
  }
 },
 "nbformat": 4,
 "nbformat_minor": 5
}
